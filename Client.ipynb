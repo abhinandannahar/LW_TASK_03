{
 "cells": [
  {
   "cell_type": "code",
   "execution_count": null,
   "id": "320394ef",
   "metadata": {},
   "outputs": [],
   "source": [
    "import socket, pickle, struct, cv2"
   ]
  },
  {
   "cell_type": "code",
   "execution_count": null,
   "id": "88162ed9",
   "metadata": {},
   "outputs": [],
   "source": [
    "try:\n",
    "    s = socket.socket(socket.AF_INET, socket.SOCK_STREAM)\n",
    "    print(\"Socket created\")\n",
    "except:\n",
    "    print(f\"Failed to create a socket {0}\".format(err))"
   ]
  },
  {
   "cell_type": "code",
   "execution_count": null,
   "id": "7713aecd",
   "metadata": {},
   "outputs": [],
   "source": [
    "s.connect((\"192.168.29.197\", 9999))\n",
    "data = b\"\"\n",
    "payloadSize = struct.calcsize(\"Q\")\n",
    "while True:\n",
    "    while len(data) < payloadSize:\n",
    "        packet = s.recv(4*1024)\n",
    "        if not packet:\n",
    "            break\n",
    "        data += packet\n",
    "    PmsgSize = data[:payloadSize]\n",
    "    data = data[payloadSize:]\n",
    "    msgSize = struct.unpack(\"N\", PmsgSize)[0]\n",
    "    while len(data) < msgSize:\n",
    "        data += s.recv(4*1024)\n",
    "    imgData = data[:msgSize]\n",
    "    data = data[msgSize:]\n",
    "    img = pickle.loads(imgData)\n",
    "    cv2.imshow(\"Client Side\", img)\n",
    "    if cv2.waitKey(1) == 13:\n",
    "        cv2.destroyAllWindows()\n",
    "        break\n",
    "s.close()"
   ]
  },
  {
   "cell_type": "code",
   "execution_count": null,
   "id": "5f3bd2c7",
   "metadata": {},
   "outputs": [],
   "source": []
  }
 ],
 "metadata": {
  "kernelspec": {
   "display_name": "Python 3",
   "language": "python",
   "name": "python3"
  },
  "language_info": {
   "codemirror_mode": {
    "name": "ipython",
    "version": 3
   },
   "file_extension": ".py",
   "mimetype": "text/x-python",
   "name": "python",
   "nbconvert_exporter": "python",
   "pygments_lexer": "ipython3",
   "version": "3.9.2"
  }
 },
 "nbformat": 4,
 "nbformat_minor": 5
}
